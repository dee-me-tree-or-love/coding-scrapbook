{
 "cells": [
  {
   "attachments": {},
   "cell_type": "markdown",
   "id": "c24b7ab8-c13d-4443-92a9-4f0a38fc937c",
   "metadata": {},
   "source": [
    "# Publication list filtering\n",
    "\n",
    "-- TODO: describe the purpose of this Notebook\n",
    "\n",
    "## Way of working\n",
    "\n",
    "-- TODO: describe how to work with this Notebook\n",
    "\n",
    "## Feature ideas \n",
    "\n",
    "- Pretty-printing to the review interface using Jupyter's Markdown features: https://stackoverflow.com/a/469342041\n",
    "- support CSV export\n",
    "- support YAML export\n",
    "- support Plaintext export"
   ]
  },
  {
   "cell_type": "code",
   "execution_count": null,
   "id": "27741783-e3db-4042-96c4-4f82e8e89c0b",
   "metadata": {},
   "outputs": [],
   "source": [
    "import sys\n",
    "!{sys.executable} -m pip install bibtexparser tinydb"
   ]
  },
  {
   "cell_type": "code",
   "execution_count": 2,
   "id": "b45b685c-f45d-4f89-89a4-1bd5162a6c1f",
   "metadata": {},
   "outputs": [],
   "source": [
    "SMS_DIR = \"./resources/citations\"\n",
    "SMS_OUTPUT_DUR = \"./outputs/sms/\"\n",
    "SMS_DB_FILE_NAME = \"sms_db.json\"\n",
    "SMS_DB_FILE_PATH = f\"{SMS_OUTPUT_DUR}{SMS_DB_FILE_NAME}\"\n",
    "EXPORT_FILE_PATTERNS = {\n",
    "    \"ACM_EXPORT_FILE_PATTERN\": \"acm_export\",\n",
    "    \"IEEE_EXPORT_FILE_PATTERN\": \"ieee_export\"\n",
    "}\n",
    "BIB_EXTENSION = \"bib\""
   ]
  },
  {
   "attachments": {},
   "cell_type": "markdown",
   "id": "0504bbfa-6507-4063-9bee-4d9fa49d36b3",
   "metadata": {},
   "source": [
    "## Collecting exported references\n",
    "\n",
    "This collects all the reference exports into a single TinyDB (JSON-file based) database.   \n",
    "This database will be used further for the selection based on the selection criteria.\n"
   ]
  },
  {
   "cell_type": "code",
   "execution_count": null,
   "id": "421924d3-fd80-41fb-be48-c8a3711dcda2",
   "metadata": {},
   "outputs": [],
   "source": [
    "from pathlib import Path, PurePath\n",
    "\n",
    "base_wd_p = Path('.')\n",
    "\n",
    "export_collections = [\n",
    "    list(base_wd_p.glob(f'{SMS_DIR}/{fp}*.{BIB_EXTENSION}'))\n",
    "    for fp in EXPORT_FILE_PATTERNS.values()\n",
    "]\n",
    "for eps in export_collections:\n",
    "    for ep in eps:\n",
    "        print(ep)"
   ]
  },
  {
   "cell_type": "code",
   "execution_count": null,
   "id": "953dcff8-1cd8-4e97-90cb-f4ae79fa3227",
   "metadata": {},
   "outputs": [],
   "source": [
    "# basic use of bibtexparser\n",
    "import bibtexparser\n",
    "\n",
    "MAKE_DEMO_PARSING = False\n",
    "DEMO_CITATIONS_FILE = \"<YOUR FILE PATH HERE>\"\n",
    "\n",
    "if MAKE_DEMO_PARSING:\n",
    "    # using a sample export for the test:\n",
    "    with open(DEMO_CITATIONS_FILE) as bibtex_file:\n",
    "        bib_database = bibtexparser.load(bibtex_file)\n",
    "\n",
    "    ENTRIES_TO_PRINT = 2\n",
    "    for entry in bib_database.entries[:ENTRIES_TO_PRINT]:\n",
    "        print(entry.keys())\n",
    "        print(entry)"
   ]
  },
  {
   "cell_type": "code",
   "execution_count": null,
   "id": "6b5610d1-b09e-4b89-b455-93da692d870c",
   "metadata": {},
   "outputs": [],
   "source": [
    "from tinydb import TinyDB\n",
    "\n",
    "# List any available backup files\n",
    "backup_db_files = list(base_wd_p.glob(f'{SMS_OUTPUT_DUR}/bu.*.json'))\n",
    "for bdbf in backup_db_files:\n",
    "    print(bdbf)\n",
    "\n",
    "# Load the default DB\n",
    "print(f\"> Using: {SMS_DB_FILE_PATH}\")\n",
    "sms_db = TinyDB(SMS_DB_FILE_PATH)"
   ]
  },
  {
   "cell_type": "markdown",
   "id": "146c606a-1f04-4320-b1a4-e5b94e23cbad",
   "metadata": {},
   "source": [
    "### Insert the clean entries in the TinyDB\n",
    "\n",
    "This block populates the TinyDB database with entries.  \n",
    "It is controlled by `RESTART_DB` flag.  \n",
    "If `RESTART_DB = False`, no changes will be made to the DB.  \n",
    "If `RESTART_DB = True`, the DB will be populated with clean data.\n",
    "\n",
    "> 💡  \n",
    "> Running this block with `RESTART_DB = True` overrides the content of the database with clean entries.  \n",
    "> If this is ran (unintended) after any reviews, please try to recover the latest backup.  "
   ]
  },
  {
   "cell_type": "code",
   "execution_count": null,
   "id": "aed02b30-7ce4-4812-92fb-2f09e975a2e3",
   "metadata": {},
   "outputs": [],
   "source": [
    "from itertools import chain\n",
    "\n",
    "all_export_files = chain(acm_exports, ieee_exports)\n",
    "\n",
    "# Start with clean TinyDB\n",
    "RESTART_DB = False\n",
    "# RESTART_DB = True # uncomment to re-populate the DB\n",
    "\n",
    "print(f\"> Restarting the DB, (controlled by `RESTART_DB`): {RESTART_DB}\")\n",
    "\n",
    "if RESTART_DB:\n",
    "    default_db_name = sms_db.default_table_name\n",
    "    sms_db.drop_tables()\n",
    "    default_table = sms_db.table(default_db_name)\n",
    "\n",
    "    for export_file in all_export_files:\n",
    "        print(export_file)\n",
    "\n",
    "        with open(export_file) as bibtex_file:\n",
    "            bib_collection = bibtexparser.load(bibtex_file)\n",
    "\n",
    "            print(f\"> inserting {len(bib_collection.entries)} entries\")\n",
    "            sms_db.insert_multiple(bib_collection.entries)\n",
    "\n",
    "print(f\"> Available DB entries (might contain duplicates): {len(sms_db)}\")"
   ]
  },
  {
   "cell_type": "code",
   "execution_count": null,
   "id": "558806f7-ca8f-42a0-a019-b82df0dd8314",
   "metadata": {},
   "outputs": [],
   "source": [
    "# Small demo\n",
    "\n",
    "ENTRY_EXPLORE_COUNT = 2\n",
    "\n",
    "for entry in sms_db.all()[:ENTRY_EXPLORE_COUNT]:\n",
    "    print(entry)"
   ]
  },
  {
   "cell_type": "code",
   "execution_count": null,
   "id": "4439159f-fd29-46c3-bc03-58476a1c678c",
   "metadata": {},
   "outputs": [],
   "source": [
    "TEST_INPUT = False\n",
    "\n",
    "if TEST_INPUT:\n",
    "    test_input = input()\n",
    "else:\n",
    "    print(f\"> Testing input function skipped since `TEST_INPUT = {TEST_INPUT}`\")"
   ]
  },
  {
   "cell_type": "markdown",
   "id": "813830f4-9d12-4be6-a21d-5684c49b35e3",
   "metadata": {},
   "source": [
    "## Perform selection (manual entries per author)\n",
    "\n",
    "This block iterates the bib entries and promts the selection criteria input.  \n",
    "To start, one needs to provide the author number (1,2,3,...).  \n",
    "Only 1 review per author is accepted.\n",
    "\n",
    "> 💡  \n",
    "> The iteration of the entries goes in batches, controlled by `BATCH_START; BATCH_END`.  \n",
    "> To stop the review, click the Stop/Interrup (⏹️) button in Jupyter Notebook's UI."
   ]
  },
  {
   "cell_type": "code",
   "execution_count": null,
   "id": "f4bf729b-8b7e-4f38-b701-ec811f749b6c",
   "metadata": {},
   "outputs": [],
   "source": [
    "from IPython.display import clear_output\n",
    "from tinydb import Query\n",
    "from time import sleep\n",
    "\n",
    "SmsDbEntry = Query()\n",
    "\n",
    "# Selection criteria dict\n",
    "# Contains all inclusion criteria\n",
    "# Only if all the criteria are \"1\", then it is deemed suitable\n",
    "selection_criteria = {\n",
    "    \"sc_<your_selection_criteria_with_default_pass_value>\": \"1\",\n",
    "    \"sc_<your_selection_criteria_with_default_nogo_value>\": \"0\",\n",
    "}\n",
    "\n",
    "author_number = input(\"Author count (e.g. 1, 2, 3, ...):\")\n",
    "if not author_number:\n",
    "    raise ValueError(\"`author_number` must be set (e.g. 1, 2, 3, ...)\")\n",
    "\n",
    "BATCH_START = 300\n",
    "BATCH_END_SEED = 300\n",
    "BATCH_END = BATCH_END_SEED if (BATCH_END_SEED <= len(sms_db)) else len(sms_db)\n",
    "\n",
    "for entry in sms_db.all()[BATCH_START:BATCH_END]:\n",
    "    clear_output(wait=True)\n",
    "    sleep(1) # sleep to gracefully handle output refresh\n",
    "\n",
    "    applied_criteria = {}\n",
    "    print(\"\\n\" + \"=\" * 5 + f\" Details: Entry with ID {entry['ID']}\")\n",
    "    entry_details = [(k,v) for (k,v) in entry.items() if not any((kc in k) for kc in selection_criteria.keys())]\n",
    "    for key, value in entry_details:\n",
    "        print(f\"{key}: {value}\")\n",
    "    print(\"~\" * 5 + f\" Author check: #{author_number}\")\n",
    "    author_prefix = f\"a_{author_number}\"\n",
    "    autor_review_items = [(k,v) for (k,v) in entry.items() if author_prefix in k]\n",
    "    sleep(1) # sleep to allow the user to read the output\n",
    "\n",
    "    # Checking the review for the paper\n",
    "    if len(autor_review_items) == len(selection_criteria.keys()):\n",
    "        print(\"~\" * 5 + f\" Author check already made: #{author_number}\")\n",
    "        print({k: v for (k,v) in autor_review_items})\n",
    "    else:    \n",
    "        for key, value in selection_criteria.items():\n",
    "            print(f\"--- Criteria {key}: {value}\")\n",
    "            author_value = input(\n",
    "                f\"Please add your review on {key} (0/1, default: {value})\")\n",
    "            sc_result_check_value = author_value or value\n",
    "            print(f\"entered: {author_value}, result: {sc_result_check_value}\")\n",
    "            applied_criteria.update({f\"a_{author_number}_{key}\": sc_result_check_value})\n",
    "        print(\"~\" * 5 + f\" Author check results: #{author_number}\")\n",
    "        print(applied_criteria)\n",
    "        print(\"~\" * 5 + f\" Updating record with ID: {entry['ID']}\")\n",
    "        upserted_ids = sms_db.upsert({**entry, **applied_criteria}, SmsDbEntry.ID == entry[\"ID\"])\n",
    "        print(f\"> updated_ids == {upserted_ids}\")\n",
    "    _ = input(\"Enter anything when ready to proceed (this will clear the output and go to next entry):...\")\n",
    "    sleep(1)"
   ]
  },
  {
   "cell_type": "markdown",
   "id": "89c395ca-24f1-48ab-b627-523a655c0591",
   "metadata": {},
   "source": [
    "### Backup progress"
   ]
  },
  {
   "cell_type": "code",
   "execution_count": null,
   "id": "6ea6c54e-c9ca-4d12-9b3f-51e766e3ce3f",
   "metadata": {},
   "outputs": [],
   "source": [
    "import shutil\n",
    "import datetime\n",
    "\n",
    "SMS_DB_BACKUP_FILE_NAME = f\"bu.{datetime.datetime.now().timestamp()}.{SMS_DB_FILE_NAME}\"\n",
    "SMS_DB_BACKUP_FILE_PATH = f\"{SMS_OUTPUT_DUR}{SMS_DB_BACKUP_FILE_NAME}\"\n",
    "\n",
    "shutil.copyfile(SMS_DB_FILE_PATH, SMS_DB_BACKUP_FILE_PATH)"
   ]
  },
  {
   "cell_type": "markdown",
   "id": "a6c3cad0-8c41-439f-b1ad-487a7ec1357e",
   "metadata": {},
   "source": [
    "## Check the selection metrics"
   ]
  },
  {
   "cell_type": "code",
   "execution_count": null,
   "id": "7aebc641-53d7-4ae9-9f79-34d7cd278184",
   "metadata": {},
   "outputs": [],
   "source": [
    "METRIC_DEBUG_PRINT = True\n",
    "\n",
    "def check_selection_presence(entry):\n",
    "    entry_keys = entry.keys()\n",
    "    return all(\n",
    "        bool([ek for ek in entry_keys if sck in ek]) \n",
    "        for sck in selection_criteria.keys()\n",
    "    )\n",
    "\n",
    "def get_entry_checks(entry):\n",
    "    entry_items = entry.items()\n",
    "    entry_checks = {\n",
    "        \"ID\": entry[\"ID\"], \n",
    "        \"checks\": [\n",
    "            {ek: ev for ek, ev in entry_items if sck in ek}\n",
    "            for sck in selection_criteria.keys()\n",
    "        ]\n",
    "    }\n",
    "    return entry_checks\n",
    "\n",
    "all_entries = sms_db.all()\n",
    "\n",
    "print(\"---\")\n",
    "checked_entries = [entry for entry in all_entries if check_selection_presence(entry)]\n",
    "print(f\"> Checked entries, nr: {len(checked_entries)}\")\n",
    "\n",
    "\n",
    "print(\"---\")\n",
    "unique_titles = set()\n",
    "checked_unique_entries = []\n",
    "for entry in checked_entries:\n",
    "    if entry['title'] not in unique_titles:\n",
    "        unique_titles.add(entry['title'])\n",
    "        checked_unique_entries.append(entry)\n",
    "print(f\"> Checked unique entries, nr: {len(checked_unique_entries)}\")\n",
    "\n",
    "# override the checked entries with only unique ones:\n",
    "checked_entries = checked_unique_entries\n",
    "\n",
    "print(\"---\")\n",
    "entry_checks = [get_entry_checks(entry) for entry in checked_entries]\n",
    "METRIC_DEBUG_PRINT and print(f\"~> Examples: {entry_checks[:1]}\", \"...\")\n",
    "\n",
    "print(\"---\")\n",
    "approved_entry_checks = [\n",
    "    entry_check for entry_check in entry_checks \n",
    "    if all(\n",
    "        map(lambda c: all(map(lambda v: v == \"1\", c.values())), entry_check[\"checks\"])\n",
    "    )\n",
    "]\n",
    "print(f\"> Approved entries, nr: {len(approved_entry_checks)}\")\n",
    "METRIC_DEBUG_PRINT and print(f\"~> Approved entries: {[ec['ID'] for ec in approved_entry_checks]}\")\n",
    "\n",
    "print(\"---\")\n",
    "conflicting_entry_checks = [\n",
    "    entry_check for entry_check in entry_checks \n",
    "    if any(\n",
    "        map(\n",
    "            lambda c: any(map(lambda v: v == \"0\", c.values())), \n",
    "            entry_check[\"checks\"])\n",
    "    )\n",
    "]\n",
    "print(f\"> Conflicting entries, nr: {len(conflicting_entry_checks)}\")\n",
    "METRIC_DEBUG_PRINT and print(f\"~> Conflicting entries: {[ec['ID'] for ec in conflicting_entry_checks]}\")\n",
    "\n",
    "print(\"---\")\n",
    "discarded_entry_checks = [\n",
    "    entry_check for entry_check in entry_checks \n",
    "    if all(\n",
    "        map(lambda c: all(map(lambda v: v == \"0\", c.values())), entry_check[\"checks\"])\n",
    "    )\n",
    "]\n",
    "print(f\"> Fully discarded entries, nr: {len(discarded_entry_checks)}\")\n",
    "METRIC_DEBUG_PRINT and print(f\"~> Fully discarded entries: {[ec['ID'] for ec in discarded_entry_checks]}\")"
   ]
  },
  {
   "cell_type": "markdown",
   "id": "ded18384-48f6-4875-8fb4-ab21c53a3e5e",
   "metadata": {},
   "source": [
    "## Export selection results"
   ]
  },
  {
   "cell_type": "markdown",
   "id": "a4d51118-bd1f-42eb-a119-a04c790e2fc1",
   "metadata": {},
   "source": [
    "### Markdown export"
   ]
  },
  {
   "cell_type": "code",
   "execution_count": 12,
   "id": "818dfb02-3dfe-4dc7-8014-d144f2c2fb39",
   "metadata": {},
   "outputs": [],
   "source": [
    "def write_entry_markdown(entry, header_level=2):\n",
    "    header = \"#\" * header_level + f\" ID: {entry['ID']}, title: \\\"{entry['title']}\\\"\"\n",
    "    data_header = \"| Attribute | Value |\\n| --- | --- |\"\n",
    "    data = \"\\n\".join((f\"| *{key}* | {value} |\" for key, value in entry.items()))\n",
    "    return header + \"\\n\\n\" + data_header + \"\\n\" + data + \"\\n\\n\"\n",
    "\n",
    "\n",
    "MD_EXPORT_APPROVED = f\"{SMS_OUTPUT_DUR}/approved_entries.md\"\n",
    "with open(MD_EXPORT_APPROVED, 'w') as f:\n",
    "    f.write(\"# Approved entries\\n\\n\")\n",
    "    for approved_entry_selection in approved_entry_checks:\n",
    "        approved_entries = (entry for entry in checked_entries if entry['ID'] == approved_entry_selection['ID'])\n",
    "        for entry in approved_entries:\n",
    "            f.write(write_entry_markdown(entry))\n",
    "\n",
    "\n",
    "MD_EXPORT_CONFLICTING = f\"{SMS_OUTPUT_DUR}/conflicting_entries.md\"\n",
    "with open(MD_EXPORT_CONFLICTING, 'w') as f:\n",
    "    f.write(\"# Conflicting entries\\n\\n\")\n",
    "    for conflicting_entry_selection in conflicting_entry_checks:\n",
    "        conflicting_entries = (entry for entry in checked_entries if entry['ID'] == conflicting_entry_selection['ID'])\n",
    "        for entry in conflicting_entries:\n",
    "            f.write(write_entry_markdown(entry))"
   ]
  },
  {
   "attachments": {},
   "cell_type": "markdown",
   "id": "4d93ca21",
   "metadata": {},
   "source": [
    "### More formats\n",
    "\n",
    "TODO:\n",
    "- [ ] support CSV export\n",
    "- [ ] support YAML export\n",
    "- [ ] support Plaintext export"
   ]
  }
 ],
 "metadata": {
  "kernelspec": {
   "display_name": "Python 3 (ipykernel)",
   "language": "python",
   "name": "python3"
  },
  "language_info": {
   "codemirror_mode": {
    "name": "ipython",
    "version": 3
   },
   "file_extension": ".py",
   "mimetype": "text/x-python",
   "name": "python",
   "nbconvert_exporter": "python",
   "pygments_lexer": "ipython3",
   "version": "3.9.12"
  }
 },
 "nbformat": 4,
 "nbformat_minor": 5
}
